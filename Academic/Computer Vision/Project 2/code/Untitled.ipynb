{
 "cells": [
  {
   "cell_type": "code",
   "execution_count": 1,
   "metadata": {},
   "outputs": [
    {
     "name": "stdout",
     "output_type": "stream",
     "text": [
      "1a) done\n",
      "1c) done\n",
      "1d) done\n",
      "1e) done\n",
      "done\n"
     ]
    }
   ],
   "source": [
    "import main\n",
    "main.main()"
   ]
  }
 ],
 "metadata": {
  "kernelspec": {
   "display_name": "current_kernel_name",
   "language": "python",
   "name": "current_kernel_name"
  },
  "language_info": {
   "codemirror_mode": {
    "name": "ipython",
    "version": 3
   },
   "file_extension": ".py",
   "mimetype": "text/x-python",
   "name": "python",
   "nbconvert_exporter": "python",
   "pygments_lexer": "ipython3",
   "version": "3.6.8"
  }
 },
 "nbformat": 4,
 "nbformat_minor": 2
}
