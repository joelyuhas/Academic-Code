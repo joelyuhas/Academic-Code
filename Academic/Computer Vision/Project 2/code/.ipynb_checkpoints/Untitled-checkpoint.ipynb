{
 "cells": [
  {
   "cell_type": "code",
   "execution_count": 1,
   "metadata": {},
   "outputs": [
    {
     "name": "stdout",
     "output_type": "stream",
     "text": [
      "[[136, 70, 107], [2, 379, 239], [331, 241, 156], [265, 81, 320], [251, 305, 280]]\n",
      "done\n"
     ]
    }
   ],
   "source": [
    "import main\n",
    "main.main()"
   ]
  }
 ],
 "metadata": {
  "kernelspec": {
   "display_name": "current_kernel_name",
   "language": "python",
   "name": "current_kernel_name"
  },
  "language_info": {
   "codemirror_mode": {
    "name": "ipython",
    "version": 3
   },
   "file_extension": ".py",
   "mimetype": "text/x-python",
   "name": "python",
   "nbconvert_exporter": "python",
   "pygments_lexer": "ipython3",
   "version": "3.6.8"
  }
 },
 "nbformat": 4,
 "nbformat_minor": 2
}
